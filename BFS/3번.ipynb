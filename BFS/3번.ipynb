{
 "cells": [
  {
   "cell_type": "markdown",
   "source": [
    "# 3번\n",
    "---\n",
    "- https://www.acmicpc.net/problem/4963"
   ],
   "metadata": {
    "collapsed": false
   }
  },
  {
   "cell_type": "code",
   "execution_count": null,
   "outputs": [],
   "source": [
    "from collections import deque\n",
    "\n",
    "dx = [0, 1, 0, -1, 1, 1, -1, -1]\n",
    "dy = [1, 0, -1, 0, 1, -1, 1, -1]\n",
    "\n",
    "q = deque()\n",
    "d\n",
    "while True:\n",
    "    w, h = map(int, input().split())\n",
    "    map = [list(map(int, input().split())) for _ in range(h)]\n",
    "\n",
    "    if w == h == 0:\n",
    "        break;\n",
    "\n",
    "    cnt = 0\n",
    "\n",
    "    for y in range(h):\n",
    "        for x in range(w):\n",
    "            if map[y][x] == 1:\n",
    "                q.append((y,x))\n",
    "                while q:\n",
    "                    ny, nx = q.popleft()\n",
    "                    if 0 <= nx < w and 0 <= ny < h and map[ny][nx] == 1:\n",
    "                        map[ny][nx] = 0\n",
    "                        q.append((ny, nx))\n",
    "                cnt += 1\n",
    "    print(cnt)"
   ],
   "metadata": {
    "collapsed": false
   }
  }
 ],
 "metadata": {
  "kernelspec": {
   "display_name": "Python 3",
   "language": "python",
   "name": "python3"
  },
  "language_info": {
   "codemirror_mode": {
    "name": "ipython",
    "version": 2
   },
   "file_extension": ".py",
   "mimetype": "text/x-python",
   "name": "python",
   "nbconvert_exporter": "python",
   "pygments_lexer": "ipython2",
   "version": "2.7.6"
  }
 },
 "nbformat": 4,
 "nbformat_minor": 0
}
