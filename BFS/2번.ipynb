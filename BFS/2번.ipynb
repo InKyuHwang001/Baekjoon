{
 "cells": [
  {
   "cell_type": "markdown",
   "source": [
    "# 2번\n",
    "---\n",
    "- https://www.acmicpc.net/problem/1012"
   ],
   "metadata": {
    "collapsed": false
   }
  },
  {
   "cell_type": "code",
   "execution_count": null,
   "outputs": [],
   "source": [
    "import sys\n",
    "sys.setrecursionlimit(10**6)\n",
    "input = sys.stdin.readline\n",
    "MAX = 50 + 10\n",
    "\n",
    "dirR = [1, -1, 0, 0]\n",
    "dirC = [0, 0, 1 , -1]\n",
    "\n",
    "def dfs(y, x):\n",
    "    graph[y][x] = False\n",
    "    for dirIdx in range(4):\n",
    "        newY = y + dirR[dirIdx]\n",
    "        newX = x + dirC[dirIdx]\n",
    "        if graph[newY][newX]:\n",
    "            dfs(newY, newX)\n",
    "\n",
    "T = int(input())\n",
    "for _ in range(T):\n",
    "    M, N, K = map(int, input().split())\n",
    "    graph = [[False] * MAX for _ in range(MAX)]\n",
    "\n",
    "    for _ in range(K):\n",
    "        x, y = map(int, input().split())\n",
    "        graph[y + 1][x + 1] = True\n",
    "\n",
    "    answer = 0\n",
    "    for i in range(1, N + 1):\n",
    "        for j in range(1, M + 1):\n",
    "            if graph[i][j]:\n",
    "                dfs(i, j)\n",
    "                answer += 1\n",
    "    print(answer)"
   ],
   "metadata": {
    "collapsed": false
   }
  }
 ],
 "metadata": {
  "kernelspec": {
   "display_name": "Python 3",
   "language": "python",
   "name": "python3"
  },
  "language_info": {
   "codemirror_mode": {
    "name": "ipython",
    "version": 2
   },
   "file_extension": ".py",
   "mimetype": "text/x-python",
   "name": "python",
   "nbconvert_exporter": "python",
   "pygments_lexer": "ipython2",
   "version": "2.7.6"
  }
 },
 "nbformat": 4,
 "nbformat_minor": 0
}
