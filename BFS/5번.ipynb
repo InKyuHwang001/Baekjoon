{
 "cells": [
  {
   "cell_type": "markdown",
   "source": [
    "# 5번\n",
    "---\n",
    "- https://www.acmicpc.net/problem/2667"
   ],
   "metadata": {
    "collapsed": false
   }
  },
  {
   "cell_type": "code",
   "execution_count": null,
   "outputs": [],
   "source": [
    "from collections import deque\n",
    "\n",
    "n = int(input())\n",
    "\n",
    "graph = []\n",
    "for i in range(n):\n",
    "    graph.append(list(map(int, input().split())))\n",
    "\n",
    "dy = [0, 1, 0, -1]\n",
    "dx = [1, 0, -1, 0]\n",
    "q = deque()\n",
    "cnt = 0\n",
    "result = []\n",
    "\n",
    "for y in range(n):\n",
    "    for x in range(n):\n",
    "        if graph[y][x] == 1:\n",
    "            graph[y][x] = 0\n",
    "            each = 1\n",
    "            q.append((y, x))\n",
    "            while q:\n",
    "                y, x = q.popleft()\n",
    "                for i in range(4):\n",
    "                    ny = y + dy[i]\n",
    "                    nx = x + dx[i]\n",
    "                    if 0 <= ny < n and 0 <= nx < n and graph[ny][nx] == 1:\n",
    "                        graph[ny][nx] = 0\n",
    "                        q.append((ny, nx))\n",
    "                        each += 1\n",
    "            result.append(each)\n",
    "            cnt += 1\n",
    "result.sort()\n",
    "print(cnt)\n",
    "for i in result:\n",
    "    print(i)"
   ],
   "metadata": {
    "collapsed": false
   }
  },
  {
   "cell_type": "markdown",
   "source": [
    "## dfs"
   ],
   "metadata": {
    "collapsed": false
   }
  },
  {
   "cell_type": "code",
   "execution_count": null,
   "outputs": [],
   "source": [
    "from collections import deque\n",
    "\n",
    "n = int(input())\n",
    "\n",
    "graph = []\n",
    "for i in range(n):\n",
    "    graph.append(list(map(int, input().split())))\n",
    "each = 0\n",
    "result = []\n",
    "\n",
    "dx = [0, 1, 0, -1]\n",
    "dy = [1, 0, -1, 0]\n",
    "\n",
    "def dfs(y,x):\n",
    "    global each\n",
    "    each += 1\n",
    "    for i in range(4):\n",
    "        nx = x + dx[i]\n",
    "        ny = y + dy[i]\n",
    "        if 0 <= nx < n and 0 <= ny < n and graph[ny][nx] == 1:\n",
    "            graph[ny][nx] = 0\n",
    "            dfs(ny, nx)\n",
    "\n",
    "for y in range(n):\n",
    "    for x in range(n):\n",
    "        if graph[y][x] == 1:\n",
    "            graph[y][x] = 0\n",
    "            dfs(y, x)\n",
    "            result.append(each)\n",
    "            each = 0\n",
    "\n",
    "result.sort()\n",
    "print(len(result))\n",
    "\n",
    "for i in result:\n",
    "    print(i)"
   ],
   "metadata": {
    "collapsed": false
   }
  }
 ],
 "metadata": {
  "kernelspec": {
   "display_name": "Python 3",
   "language": "python",
   "name": "python3"
  },
  "language_info": {
   "codemirror_mode": {
    "name": "ipython",
    "version": 2
   },
   "file_extension": ".py",
   "mimetype": "text/x-python",
   "name": "python",
   "nbconvert_exporter": "python",
   "pygments_lexer": "ipython2",
   "version": "2.7.6"
  }
 },
 "nbformat": 4,
 "nbformat_minor": 0
}
