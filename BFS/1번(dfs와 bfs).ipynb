{
 "cells": [
  {
   "cell_type": "markdown",
   "source": [
    "# 1번\n",
    "---\n",
    "- acmicpc.net/problem/1260"
   ],
   "metadata": {
    "collapsed": false
   }
  },
  {
   "cell_type": "code",
   "execution_count": null,
   "outputs": [],
   "source": [
    "from collections import deque\n",
    "\n",
    "n, m, v = map(int, input().split())\n",
    "map_ = [[0] * (n + 1) for _ in range(n + 1)]\n",
    "chk = [0] * (n + 1)\n",
    "\n",
    "for i in range(m):\n",
    "    a, b = map(int, input().split())\n",
    "    map_[a][b] = map_[b][a] = 1\n",
    "\n",
    "def bfs(v):\n",
    "    q = deque()\n",
    "    q.append(v)\n",
    "    chk[v] = 0\n",
    "\n",
    "    while q:\n",
    "        nv = q.popleft()\n",
    "        print(nv, end=' ')\n",
    "        for i in range(1, n + 1):\n",
    "            if(chk[i] == 1 and map_[nv][i] == 1):\n",
    "                q.append(i)\n",
    "                chk[i] = 0\n",
    "\n",
    "def dfs(v):\n",
    "    chk[v] = 1\n",
    "\n",
    "    print(v, end = ' ')\n",
    "    for i in range(1, n+1):\n",
    "        if(chk[i] == 0 and map_[v][i] == 1):\n",
    "            dfs(i)\n",
    "\n",
    "dfs(v)\n",
    "print()\n",
    "bfs(v)"
   ],
   "metadata": {
    "collapsed": false
   }
  }
 ],
 "metadata": {
  "kernelspec": {
   "display_name": "Python 3",
   "language": "python",
   "name": "python3"
  },
  "language_info": {
   "codemirror_mode": {
    "name": "ipython",
    "version": 2
   },
   "file_extension": ".py",
   "mimetype": "text/x-python",
   "name": "python",
   "nbconvert_exporter": "python",
   "pygments_lexer": "ipython2",
   "version": "2.7.6"
  }
 },
 "nbformat": 4,
 "nbformat_minor": 0
}
