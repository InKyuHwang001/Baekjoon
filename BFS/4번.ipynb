{
 "cells": [
  {
   "cell_type": "markdown",
   "source": [
    "# 4번\n",
    "---\n",
    "- https://www.acmicpc.net/problem/17086"
   ],
   "metadata": {
    "collapsed": false
   }
  },
  {
   "cell_type": "code",
   "execution_count": null,
   "outputs": [],
   "source": [
    "from collections import deque\n",
    "\n",
    "n, m = map(int, input().split())\n",
    "\n",
    "graph = []\n",
    "for i in range(n):\n",
    "    graph.append(list(map(int, input().split())))\n",
    "\n",
    "maxValue = 0\n",
    "dx = [0, 1, 0, -1, 1, 1, -1, -1]\n",
    "dy = [1, 0, -1, 0, 1, -1, 1, -1]\n",
    "\n",
    "q= deque()\n",
    "\n",
    "for x in range(m):\n",
    "    for y in range(n):\n",
    "        if graph[y][x] == 1:\n",
    "            q.append((y, x))\n",
    "\n",
    "while q:\n",
    "    ex, ey = q.popleft()\n",
    "    for i in range(8):\n",
    "        nx = ex + dx[i]\n",
    "        ny = ey + dy[i]\n",
    "        if 0 <= nx <= m and 0 <= ny <= n and graph[ny][nx] == 0:\n",
    "            q.append((ny, nx))\n",
    "            graph[ny][nx] = graph[y][x] + 1\n",
    "            maxValue = max(maxValue, graph[ny][nx])\n",
    "\n",
    "print(ans -1)"
   ],
   "metadata": {
    "collapsed": false
   }
  }
 ],
 "metadata": {
  "kernelspec": {
   "display_name": "Python 3",
   "language": "python",
   "name": "python3"
  },
  "language_info": {
   "codemirror_mode": {
    "name": "ipython",
    "version": 2
   },
   "file_extension": ".py",
   "mimetype": "text/x-python",
   "name": "python",
   "nbconvert_exporter": "python",
   "pygments_lexer": "ipython2",
   "version": "2.7.6"
  }
 },
 "nbformat": 4,
 "nbformat_minor": 0
}
