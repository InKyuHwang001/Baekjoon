{
 "cells": [
  {
   "cell_type": "markdown",
   "source": [
    "# 0번\n",
    "---\n",
    "- 한번 계산한 것은 더이상 연산 하지 않기\n",
    "- https://www.acmicpc.net/problem/10870"
   ],
   "metadata": {
    "collapsed": false
   }
  },
  {
   "cell_type": "markdown",
   "source": [
    "## Ver.1 시간 초과"
   ],
   "metadata": {
    "collapsed": false
   }
  },
  {
   "cell_type": "code",
   "execution_count": null,
   "outputs": [],
   "source": [
    "def fib(num):\n",
    "    #0. 탈출 조건\n",
    "    if num < 2:\n",
    "        return num\n",
    "    #1. 기본 동작\n",
    "    return fib(num - 1) + fib(num - 2)\n",
    "\n",
    "num =  int(input())\n",
    "print(fib(num))"
   ],
   "metadata": {
    "collapsed": false
   }
  },
  {
   "cell_type": "markdown",
   "source": [
    "## Ver.2 DP 적용"
   ],
   "metadata": {
    "collapsed": false
   }
  },
  {
   "cell_type": "code",
   "execution_count": null,
   "outputs": [],
   "source": [
    "def fib(num):\n",
    "\n",
    "    if dp[num] == -1: # 연산된 적이 없다면\n",
    "        dp[num] = fib(num - 1) + fib(num - 2)\n",
    "\n",
    "    return dp[num]\n",
    "\n",
    "num = int(input())\n",
    "dp = [-1] * 100\n",
    "dp[0] = 0\n",
    "dp[1] = 1\n",
    "print(fib(num))"
   ],
   "metadata": {
    "collapsed": false
   }
  },
  {
   "cell_type": "markdown",
   "source": [
    "## Ver.3 미추천"
   ],
   "metadata": {
    "collapsed": false
   }
  },
  {
   "cell_type": "code",
   "execution_count": null,
   "outputs": [],
   "source": [
    "num = int(input())\n",
    "dp = [0] * 100\n",
    "dp[1] = 1\n",
    "\n",
    "for i in range(2, num + 1):\n",
    "    dp[i] = dp[i - 1] + dp[i - 2]\n",
    "\n",
    "print(dp(num))"
   ],
   "metadata": {
    "collapsed": false
   }
  }
 ],
 "metadata": {
  "kernelspec": {
   "display_name": "Python 3",
   "language": "python",
   "name": "python3"
  },
  "language_info": {
   "codemirror_mode": {
    "name": "ipython",
    "version": 2
   },
   "file_extension": ".py",
   "mimetype": "text/x-python",
   "name": "python",
   "nbconvert_exporter": "python",
   "pygments_lexer": "ipython2",
   "version": "2.7.6"
  }
 },
 "nbformat": 4,
 "nbformat_minor": 0
}
